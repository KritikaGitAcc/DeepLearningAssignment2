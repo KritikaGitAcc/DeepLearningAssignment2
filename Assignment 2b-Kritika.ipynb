{
 "cells": [
  {
   "cell_type": "code",
   "execution_count": 1,
   "id": "836f08ee",
   "metadata": {},
   "outputs": [
    {
     "data": {
      "text/html": [
       "<div>\n",
       "<style scoped>\n",
       "    .dataframe tbody tr th:only-of-type {\n",
       "        vertical-align: middle;\n",
       "    }\n",
       "\n",
       "    .dataframe tbody tr th {\n",
       "        vertical-align: top;\n",
       "    }\n",
       "\n",
       "    .dataframe thead th {\n",
       "        text-align: right;\n",
       "    }\n",
       "</style>\n",
       "<table border=\"1\" class=\"dataframe\">\n",
       "  <thead>\n",
       "    <tr style=\"text-align: right;\">\n",
       "      <th></th>\n",
       "      <th>class</th>\n",
       "      <th>file</th>\n",
       "    </tr>\n",
       "  </thead>\n",
       "  <tbody>\n",
       "    <tr>\n",
       "      <th>0</th>\n",
       "      <td>5</td>\n",
       "      <td>00001.tif</td>\n",
       "    </tr>\n",
       "    <tr>\n",
       "      <th>1</th>\n",
       "      <td>0</td>\n",
       "      <td>00002.tif</td>\n",
       "    </tr>\n",
       "    <tr>\n",
       "      <th>2</th>\n",
       "      <td>4</td>\n",
       "      <td>00003.tif</td>\n",
       "    </tr>\n",
       "    <tr>\n",
       "      <th>3</th>\n",
       "      <td>1</td>\n",
       "      <td>00004.tif</td>\n",
       "    </tr>\n",
       "    <tr>\n",
       "      <th>4</th>\n",
       "      <td>9</td>\n",
       "      <td>00005.tif</td>\n",
       "    </tr>\n",
       "  </tbody>\n",
       "</table>\n",
       "</div>"
      ],
      "text/plain": [
       "   class       file\n",
       "0      5  00001.tif\n",
       "1      0  00002.tif\n",
       "2      4  00003.tif\n",
       "3      1  00004.tif\n",
       "4      9  00005.tif"
      ]
     },
     "execution_count": 1,
     "metadata": {},
     "output_type": "execute_result"
    }
   ],
   "source": [
    "import pandas as pd\n",
    "train_class=pd.read_csv('mnist-train-labels.csv',header=None,names=['class','file'])\n",
    "train_class.head()\n",
    "\n"
   ]
  },
  {
   "cell_type": "code",
   "execution_count": 2,
   "id": "a857e10c",
   "metadata": {},
   "outputs": [
    {
     "data": {
      "text/html": [
       "<div>\n",
       "<style scoped>\n",
       "    .dataframe tbody tr th:only-of-type {\n",
       "        vertical-align: middle;\n",
       "    }\n",
       "\n",
       "    .dataframe tbody tr th {\n",
       "        vertical-align: top;\n",
       "    }\n",
       "\n",
       "    .dataframe thead th {\n",
       "        text-align: right;\n",
       "    }\n",
       "</style>\n",
       "<table border=\"1\" class=\"dataframe\">\n",
       "  <thead>\n",
       "    <tr style=\"text-align: right;\">\n",
       "      <th></th>\n",
       "      <th>class</th>\n",
       "      <th>file</th>\n",
       "    </tr>\n",
       "  </thead>\n",
       "  <tbody>\n",
       "    <tr>\n",
       "      <th>0</th>\n",
       "      <td>7</td>\n",
       "      <td>00001.tif</td>\n",
       "    </tr>\n",
       "    <tr>\n",
       "      <th>1</th>\n",
       "      <td>2</td>\n",
       "      <td>00002.tif</td>\n",
       "    </tr>\n",
       "    <tr>\n",
       "      <th>2</th>\n",
       "      <td>1</td>\n",
       "      <td>00003.tif</td>\n",
       "    </tr>\n",
       "    <tr>\n",
       "      <th>3</th>\n",
       "      <td>0</td>\n",
       "      <td>00004.tif</td>\n",
       "    </tr>\n",
       "    <tr>\n",
       "      <th>4</th>\n",
       "      <td>4</td>\n",
       "      <td>00005.tif</td>\n",
       "    </tr>\n",
       "  </tbody>\n",
       "</table>\n",
       "</div>"
      ],
      "text/plain": [
       "   class       file\n",
       "0      7  00001.tif\n",
       "1      2  00002.tif\n",
       "2      1  00003.tif\n",
       "3      0  00004.tif\n",
       "4      4  00005.tif"
      ]
     },
     "execution_count": 2,
     "metadata": {},
     "output_type": "execute_result"
    }
   ],
   "source": [
    "test_class=pd.read_csv('mnist-test-labels.csv',header=None,names=['class','file'])\n",
    "test_class.head()"
   ]
  },
  {
   "cell_type": "code",
   "execution_count": 8,
   "id": "a2b6a9cd",
   "metadata": {},
   "outputs": [
    {
     "name": "stderr",
     "output_type": "stream",
     "text": [
      "C:\\Users\\KritikaSingh\\AppData\\Local\\Temp\\ipykernel_22348\\1548690282.py:7: DeprecationWarning: `np.int` is a deprecated alias for the builtin `int`. To silence this warning, use `int` by itself. Doing this will not modify any behavior and is safe. When replacing `np.int`, you may wish to use e.g. `np.int64` or `np.int32` to specify the precision. If you wish to review your current use, check the release note link for additional information.\n",
      "Deprecated in NumPy 1.20; for more details and guidance: https://numpy.org/devdocs/release/1.20.0-notes.html#deprecations\n",
      "  x_train = np.empty(shape=(len(files),28,28),dtype=np.int)\n",
      "C:\\Users\\KritikaSingh\\AppData\\Local\\Temp\\ipykernel_22348\\1548690282.py:9: DeprecationWarning: `np.int` is a deprecated alias for the builtin `int`. To silence this warning, use `int` by itself. Doing this will not modify any behavior and is safe. When replacing `np.int`, you may wish to use e.g. `np.int64` or `np.int32` to specify the precision. If you wish to review your current use, check the release note link for additional information.\n",
      "Deprecated in NumPy 1.20; for more details and guidance: https://numpy.org/devdocs/release/1.20.0-notes.html#deprecations\n",
      "  y_train_original = np.empty(shape=(len(files)),dtype=np.int)\n"
     ]
    },
    {
     "name": "stdout",
     "output_type": "stream",
     "text": [
      "done processing 0 images\n",
      "done processing 2000 images\n",
      "done processing 4000 images\n",
      "done processing 6000 images\n",
      "done processing 8000 images\n",
      "done processing 10000 images\n",
      "done processing 12000 images\n",
      "done processing 14000 images\n",
      "done processing 16000 images\n",
      "done processing 18000 images\n",
      "done processing 20000 images\n",
      "done processing 22000 images\n",
      "done processing 24000 images\n",
      "done processing 26000 images\n",
      "done processing 28000 images\n",
      "done processing 30000 images\n",
      "done processing 32000 images\n",
      "done processing 34000 images\n",
      "done processing 36000 images\n",
      "done processing 38000 images\n",
      "done processing 40000 images\n",
      "done processing 42000 images\n",
      "done processing 44000 images\n",
      "done processing 46000 images\n",
      "done processing 48000 images\n",
      "done processing 50000 images\n",
      "done processing 52000 images\n",
      "done processing 54000 images\n",
      "done processing 56000 images\n",
      "done processing 58000 images\n"
     ]
    }
   ],
   "source": [
    "from os import listdir\n",
    "from skimage import io\n",
    "imagedir='mnist-train-images-tiff/mnist-train-images-tiff/'\n",
    "files=listdir(imagedir)\n",
    "import numpy as np\n",
    "#creating numpy matrix/tensor to store the images\n",
    "x_train = np.empty(shape=(len(files),28,28),dtype=np.int)\n",
    "#creating numpy matrix to store class labels\n",
    "y_train_original = np.empty(shape=(len(files)),dtype=np.int)\n",
    "for i in range(0,len(files)):\n",
    "    if(i%2000 == 0):\n",
    "        print('done processing ' + str(i) + ' images')\n",
    "    I = io.imread(imagedir+files[i])\n",
    "    x_train[i,:,:] = I\n",
    "    y_train_original[i] = train_class.loc[train_class['file'] == files[i],'class'].item()"
   ]
  },
  {
   "cell_type": "code",
   "execution_count": 9,
   "id": "efa340fc",
   "metadata": {},
   "outputs": [
    {
     "name": "stderr",
     "output_type": "stream",
     "text": [
      "C:\\Users\\KritikaSingh\\AppData\\Local\\Temp\\ipykernel_22348\\1050968376.py:6: DeprecationWarning: `np.int` is a deprecated alias for the builtin `int`. To silence this warning, use `int` by itself. Doing this will not modify any behavior and is safe. When replacing `np.int`, you may wish to use e.g. `np.int64` or `np.int32` to specify the precision. If you wish to review your current use, check the release note link for additional information.\n",
      "Deprecated in NumPy 1.20; for more details and guidance: https://numpy.org/devdocs/release/1.20.0-notes.html#deprecations\n",
      "  x_test = np.empty(shape=(len(files),28,28),dtype=np.int)\n",
      "C:\\Users\\KritikaSingh\\AppData\\Local\\Temp\\ipykernel_22348\\1050968376.py:8: DeprecationWarning: `np.int` is a deprecated alias for the builtin `int`. To silence this warning, use `int` by itself. Doing this will not modify any behavior and is safe. When replacing `np.int`, you may wish to use e.g. `np.int64` or `np.int32` to specify the precision. If you wish to review your current use, check the release note link for additional information.\n",
      "Deprecated in NumPy 1.20; for more details and guidance: https://numpy.org/devdocs/release/1.20.0-notes.html#deprecations\n",
      "  y_test_original = np.empty(shape=(len(files)),dtype=np.int)\n"
     ]
    },
    {
     "name": "stdout",
     "output_type": "stream",
     "text": [
      "done processing 0 images\n",
      "done processing 2000 images\n",
      "done processing 4000 images\n",
      "done processing 6000 images\n",
      "done processing 8000 images\n"
     ]
    }
   ],
   "source": [
    "from os import listdir\n",
    "imagedir='mnist-test-images-tiff/mnist-test-images-tiff/'\n",
    "files=listdir(imagedir)\n",
    "import numpy as np\n",
    "#creating numpy matrix/tensor to store the images\n",
    "x_test = np.empty(shape=(len(files),28,28),dtype=np.int)\n",
    "#creating numpy matrix to store class labels\n",
    "y_test_original = np.empty(shape=(len(files)),dtype=np.int)\n",
    "for i in range(0,len(files)):\n",
    "    if(i%2000 == 0):\n",
    "        print('done processing ' + str(i) + ' images')\n",
    "    I = io.imread(imagedir+files[i])\n",
    "    x_test[i,:,:] = I\n",
    "    y_test_original[i] = test_class.loc[test_class['file'] == files[i],'class'].item()"
   ]
  },
  {
   "cell_type": "code",
   "execution_count": 10,
   "id": "4fe2e3ab",
   "metadata": {},
   "outputs": [
    {
     "name": "stdout",
     "output_type": "stream",
     "text": [
      "(60000, 28, 28)\n",
      "(10000, 28, 28)\n",
      "(60000,)\n"
     ]
    }
   ],
   "source": [
    "print(x_train.shape)\n",
    "print(x_test.shape)\n",
    "print(y_train_original.shape)"
   ]
  },
  {
   "cell_type": "code",
   "execution_count": 11,
   "id": "cac39c56",
   "metadata": {},
   "outputs": [],
   "source": [
    "import h5py\n",
    "hf = h5py.File(\"mnist_data.h5\", 'w')\n",
    "hf.create_dataset('x_train', data=x_train)\n",
    "hf.create_dataset('y_train', data=y_train_original)\n",
    "hf.create_dataset('x_test', data=x_test)\n",
    "hf.create_dataset('y_test', data=y_test_original)\n",
    "hf.close()"
   ]
  },
  {
   "cell_type": "code",
   "execution_count": 12,
   "id": "1b3a4c90",
   "metadata": {},
   "outputs": [
    {
     "data": {
      "text/plain": [
       "<KeysViewHDF5 ['x_test', 'x_train', 'y_test', 'y_train']>"
      ]
     },
     "execution_count": 12,
     "metadata": {},
     "output_type": "execute_result"
    }
   ],
   "source": [
    "f1 = h5py.File(\"mnist_data.h5\",\"r\")\n",
    "f1.keys()"
   ]
  },
  {
   "cell_type": "code",
   "execution_count": 13,
   "id": "09f72889",
   "metadata": {},
   "outputs": [
    {
     "name": "stdout",
     "output_type": "stream",
     "text": [
      "(60000, 28, 28)\n",
      "(10000, 28, 28)\n",
      "(60000,)\n",
      "(10000,)\n"
     ]
    }
   ],
   "source": [
    "x_train = np.array(f1['x_train'])\n",
    "x_test = np.array(f1['x_test'])\n",
    "y_train_original = np.array(f1['y_train'])\n",
    "y_test_original = np.array(f1['y_test'])\n",
    "\n",
    "print(x_train.shape)\n",
    "print(x_test.shape)\n",
    "print(y_train_original.shape)\n",
    "print(y_test_original.shape)"
   ]
  },
  {
   "cell_type": "code",
   "execution_count": 14,
   "id": "f7e1eca0",
   "metadata": {},
   "outputs": [
    {
     "name": "stdout",
     "output_type": "stream",
     "text": [
      "(60000, 784)\n",
      "(10000, 784)\n"
     ]
    }
   ],
   "source": [
    "x_train1=np.reshape(x_train,(60000,28*28))\n",
    "x_test1=np.reshape(x_test,(10000,28*28))\n",
    "print(x_train1.shape)\n",
    "print(x_test1.shape)"
   ]
  },
  {
   "cell_type": "code",
   "execution_count": 16,
   "id": "ce0ec41e",
   "metadata": {},
   "outputs": [],
   "source": [
    "np.savetxt('mnist_training.csv', x_train1, fmt='%d', delimiter=',') \n",
    "np.savetxt('mnist_testing.csv', x_test1, fmt='%d', delimiter=',') \n",
    "np.savetxt('mnist_training_class.csv', y_train_original, fmt='%d', delimiter=',') \n",
    "np.savetxt('mnist_testing_class.csv', y_test_original, fmt='%d', delimiter=',') "
   ]
  },
  {
   "cell_type": "code",
   "execution_count": 17,
   "id": "1c8f002c",
   "metadata": {},
   "outputs": [
    {
     "name": "stdout",
     "output_type": "stream",
     "text": [
      "1.0\n",
      "1.0\n",
      "0.0\n",
      "0.0\n"
     ]
    }
   ],
   "source": [
    "x_train1 = x_train1/255\n",
    "x_test1 = x_test1/255\n",
    "print(np.max(x_train1))\n",
    "print(np.max(x_test1))\n",
    "print(np.min(x_train1))\n",
    "print(np.min(x_test1))"
   ]
  },
  {
   "cell_type": "code",
   "execution_count": 18,
   "id": "538bbbdd",
   "metadata": {},
   "outputs": [
    {
     "name": "stdout",
     "output_type": "stream",
     "text": [
      "shape of y_train and y_test before categorical\n",
      "(60000,)\n",
      "(10000,)\n",
      "shape of y_train and y_test after categorical\n",
      "(60000, 10)\n",
      "(10000, 10)\n"
     ]
    }
   ],
   "source": [
    "from keras.utils import np_utils\n",
    "NB_CLASSES = 10 #number of classes\n",
    "print('shape of y_train and y_test before categorical')\n",
    "print(y_train_original.shape)\n",
    "print(y_test_original.shape)\n",
    "y_train= np_utils.to_categorical(y_train_original, NB_CLASSES)\n",
    "y_test= np_utils.to_categorical(y_test_original, NB_CLASSES)\n",
    "y_train = y_train.astype(int)\n",
    "y_test = y_test.astype(int)\n",
    "print('shape of y_train and y_test after categorical')\n",
    "print(y_train.shape)\n",
    "print(y_test.shape)"
   ]
  },
  {
   "cell_type": "code",
   "execution_count": 19,
   "id": "9b0035fb",
   "metadata": {},
   "outputs": [
    {
     "name": "stdout",
     "output_type": "stream",
     "text": [
      "5\n",
      "[0 0 0 0 0 1 0 0 0 0]\n"
     ]
    }
   ],
   "source": [
    "print(y_train_original[0])\n",
    "print(y_train[0,:])"
   ]
  },
  {
   "cell_type": "code",
   "execution_count": 20,
   "id": "56f7aa0e",
   "metadata": {},
   "outputs": [],
   "source": [
    "from tensorflow.keras.models import Sequential # what kind of model ? a sequenctial model\n",
    "from tensorflow.keras.layers import Dense, Activation # different layers, activation function, and dropout\n",
    "from tensorflow.keras.optimizers import SGD # optimization algorithm"
   ]
  },
  {
   "cell_type": "code",
   "execution_count": 21,
   "id": "60bf5fd6",
   "metadata": {},
   "outputs": [],
   "source": [
    "NB_EPOCH = 150 # number of epoch\n",
    "BATCH_SIZE = 30 # mini batch size\n",
    "VERBOSE = 1 #display results during training\n",
    "NB_CLASSES = 10 #number of classes\n",
    "OPTIMIZER = SGD() # choose optimizer\n",
    "N_HIDDEN = 50 # number of nodes in the hidden layer\n",
    "VALIDATION_SPLIT = 0.2 #80% training and 20%validation\n",
    "METRICS =['accuracy']\n",
    "LOSS = 'categorical_crossentropy' "
   ]
  },
  {
   "cell_type": "code",
   "execution_count": 29,
   "id": "b65231a7",
   "metadata": {},
   "outputs": [
    {
     "name": "stdout",
     "output_type": "stream",
     "text": [
      "Model: \"sequential_2\"\n",
      "_________________________________________________________________\n",
      " Layer (type)                Output Shape              Param #   \n",
      "=================================================================\n",
      " dense_5 (Dense)             (None, 50)                39250     \n",
      "                                                                 \n",
      " dense_6 (Dense)             (None, 50)                2550      \n",
      "                                                                 \n",
      " dense_7 (Dense)             (None, 10)                510       \n",
      "                                                                 \n",
      "=================================================================\n",
      "Total params: 42,310\n",
      "Trainable params: 42,310\n",
      "Non-trainable params: 0\n",
      "_________________________________________________________________\n",
      "None\n"
     ]
    }
   ],
   "source": [
    "model = Sequential()\n",
    "model.add(Dense(N_HIDDEN,input_shape=(x_train1.shape[1],),activation='relu'))\n",
    "model.add(Dense(N_HIDDEN,activation='relu'))\n",
    "model.add(Dense(NB_CLASSES,activation='softmax'))\n",
    "print(model.summary())  \n"
   ]
  },
  {
   "cell_type": "code",
   "execution_count": 24,
   "id": "6f17f952",
   "metadata": {},
   "outputs": [
    {
     "name": "stdout",
     "output_type": "stream",
     "text": [
      "Epoch 1/500\n",
      "1585/1600 [============================>.] - ETA: 0s - loss: 0.7961 - accuracy: 0.7637\n",
      "Epoch 1: val_loss improved from inf to 0.54700, saving model to best_model_mnist.hdf5\n",
      "1600/1600 [==============================] - 6s 3ms/step - loss: 0.7937 - accuracy: 0.7643 - val_loss: 0.5470 - val_accuracy: 0.8250\n",
      "Epoch 2/500\n",
      "1588/1600 [============================>.] - ETA: 0s - loss: 0.4052 - accuracy: 0.8791\n",
      "Epoch 2: val_loss improved from 0.54700 to 0.35478, saving model to best_model_mnist.hdf5\n",
      "1600/1600 [==============================] - 4s 3ms/step - loss: 0.4049 - accuracy: 0.8791 - val_loss: 0.3548 - val_accuracy: 0.8907\n",
      "Epoch 3/500\n",
      "1590/1600 [============================>.] - ETA: 0s - loss: 0.3490 - accuracy: 0.8957\n",
      "Epoch 3: val_loss improved from 0.35478 to 0.28479, saving model to best_model_mnist.hdf5\n",
      "1600/1600 [==============================] - 4s 3ms/step - loss: 0.3486 - accuracy: 0.8958 - val_loss: 0.2848 - val_accuracy: 0.9175\n",
      "Epoch 4/500\n",
      "1589/1600 [============================>.] - ETA: 0s - loss: 0.3100 - accuracy: 0.9069\n",
      "Epoch 4: val_loss improved from 0.28479 to 0.28457, saving model to best_model_mnist.hdf5\n",
      "1600/1600 [==============================] - 4s 3ms/step - loss: 0.3107 - accuracy: 0.9068 - val_loss: 0.2846 - val_accuracy: 0.9172\n",
      "Epoch 5/500\n",
      "1583/1600 [============================>.] - ETA: 0s - loss: 0.2848 - accuracy: 0.9150\n",
      "Epoch 5: val_loss improved from 0.28457 to 0.24927, saving model to best_model_mnist.hdf5\n",
      "1600/1600 [==============================] - 5s 3ms/step - loss: 0.2848 - accuracy: 0.9150 - val_loss: 0.2493 - val_accuracy: 0.9310\n",
      "Epoch 6/500\n",
      "1591/1600 [============================>.] - ETA: 0s - loss: 0.2628 - accuracy: 0.9217\n",
      "Epoch 6: val_loss improved from 0.24927 to 0.23625, saving model to best_model_mnist.hdf5\n",
      "1600/1600 [==============================] - 4s 3ms/step - loss: 0.2626 - accuracy: 0.9217 - val_loss: 0.2363 - val_accuracy: 0.9321\n",
      "Epoch 7/500\n",
      "1586/1600 [============================>.] - ETA: 0s - loss: 0.2458 - accuracy: 0.9268\n",
      "Epoch 7: val_loss did not improve from 0.23625\n",
      "1600/1600 [==============================] - 6s 4ms/step - loss: 0.2458 - accuracy: 0.9267 - val_loss: 0.2586 - val_accuracy: 0.9222\n",
      "Epoch 8/500\n",
      "1600/1600 [==============================] - ETA: 0s - loss: 0.2292 - accuracy: 0.9312\n",
      "Epoch 8: val_loss improved from 0.23625 to 0.23594, saving model to best_model_mnist.hdf5\n",
      "1600/1600 [==============================] - 5s 3ms/step - loss: 0.2292 - accuracy: 0.9312 - val_loss: 0.2359 - val_accuracy: 0.9316\n",
      "Epoch 9/500\n",
      "1578/1600 [============================>.] - ETA: 0s - loss: 0.2160 - accuracy: 0.9353\n",
      "Epoch 9: val_loss improved from 0.23594 to 0.21752, saving model to best_model_mnist.hdf5\n",
      "1600/1600 [==============================] - 4s 3ms/step - loss: 0.2166 - accuracy: 0.9351 - val_loss: 0.2175 - val_accuracy: 0.9338\n",
      "Epoch 10/500\n",
      "1593/1600 [============================>.] - ETA: 0s - loss: 0.2048 - accuracy: 0.9378\n",
      "Epoch 10: val_loss improved from 0.21752 to 0.19015, saving model to best_model_mnist.hdf5\n",
      "1600/1600 [==============================] - 4s 3ms/step - loss: 0.2047 - accuracy: 0.9379 - val_loss: 0.1902 - val_accuracy: 0.9450\n",
      "Epoch 11/500\n",
      "1600/1600 [==============================] - ETA: 0s - loss: 0.1944 - accuracy: 0.9414\n",
      "Epoch 11: val_loss did not improve from 0.19015\n",
      "1600/1600 [==============================] - 4s 3ms/step - loss: 0.1944 - accuracy: 0.9414 - val_loss: 0.2077 - val_accuracy: 0.9394\n",
      "Epoch 12/500\n",
      "1600/1600 [==============================] - ETA: 0s - loss: 0.1858 - accuracy: 0.9440\n",
      "Epoch 12: val_loss improved from 0.19015 to 0.17829, saving model to best_model_mnist.hdf5\n",
      "1600/1600 [==============================] - 4s 3ms/step - loss: 0.1858 - accuracy: 0.9440 - val_loss: 0.1783 - val_accuracy: 0.9471\n",
      "Epoch 13/500\n",
      "1578/1600 [============================>.] - ETA: 0s - loss: 0.1759 - accuracy: 0.9465\n",
      "Epoch 13: val_loss improved from 0.17829 to 0.17783, saving model to best_model_mnist.hdf5\n",
      "1600/1600 [==============================] - 4s 3ms/step - loss: 0.1755 - accuracy: 0.9467 - val_loss: 0.1778 - val_accuracy: 0.9488\n",
      "Epoch 14/500\n",
      "1599/1600 [============================>.] - ETA: 0s - loss: 0.1676 - accuracy: 0.9491\n",
      "Epoch 14: val_loss improved from 0.17783 to 0.17202, saving model to best_model_mnist.hdf5\n",
      "1600/1600 [==============================] - 6s 4ms/step - loss: 0.1677 - accuracy: 0.9491 - val_loss: 0.1720 - val_accuracy: 0.9482\n",
      "Epoch 15/500\n",
      "1582/1600 [============================>.] - ETA: 0s - loss: 0.1615 - accuracy: 0.9511\n",
      "Epoch 15: val_loss did not improve from 0.17202\n",
      "1600/1600 [==============================] - 5s 3ms/step - loss: 0.1612 - accuracy: 0.9512 - val_loss: 0.1754 - val_accuracy: 0.9476\n",
      "Epoch 16/500\n",
      "1585/1600 [============================>.] - ETA: 0s - loss: 0.1553 - accuracy: 0.9526\n",
      "Epoch 16: val_loss improved from 0.17202 to 0.17170, saving model to best_model_mnist.hdf5\n",
      "1600/1600 [==============================] - 4s 3ms/step - loss: 0.1551 - accuracy: 0.9526 - val_loss: 0.1717 - val_accuracy: 0.9498\n",
      "Epoch 17/500\n",
      "1597/1600 [============================>.] - ETA: 0s - loss: 0.1483 - accuracy: 0.9551\n",
      "Epoch 17: val_loss improved from 0.17170 to 0.15845, saving model to best_model_mnist.hdf5\n",
      "1600/1600 [==============================] - 5s 3ms/step - loss: 0.1483 - accuracy: 0.9551 - val_loss: 0.1585 - val_accuracy: 0.9523\n",
      "Epoch 18/500\n",
      "1594/1600 [============================>.] - ETA: 0s - loss: 0.1425 - accuracy: 0.9566\n",
      "Epoch 18: val_loss improved from 0.15845 to 0.15270, saving model to best_model_mnist.hdf5\n",
      "1600/1600 [==============================] - 5s 3ms/step - loss: 0.1423 - accuracy: 0.9567 - val_loss: 0.1527 - val_accuracy: 0.9548\n",
      "Epoch 19/500\n",
      "1586/1600 [============================>.] - ETA: 0s - loss: 0.1394 - accuracy: 0.9574\n",
      "Epoch 19: val_loss improved from 0.15270 to 0.14481, saving model to best_model_mnist.hdf5\n",
      "1600/1600 [==============================] - 5s 3ms/step - loss: 0.1393 - accuracy: 0.9575 - val_loss: 0.1448 - val_accuracy: 0.9582\n",
      "Epoch 20/500\n",
      "1588/1600 [============================>.] - ETA: 0s - loss: 0.1329 - accuracy: 0.9604\n",
      "Epoch 20: val_loss improved from 0.14481 to 0.14367, saving model to best_model_mnist.hdf5\n",
      "1600/1600 [==============================] - 4s 3ms/step - loss: 0.1330 - accuracy: 0.9604 - val_loss: 0.1437 - val_accuracy: 0.9574\n",
      "Epoch 21/500\n",
      "1591/1600 [============================>.] - ETA: 0s - loss: 0.1291 - accuracy: 0.9614\n",
      "Epoch 21: val_loss did not improve from 0.14367\n",
      "1600/1600 [==============================] - 5s 3ms/step - loss: 0.1291 - accuracy: 0.9615 - val_loss: 0.1703 - val_accuracy: 0.9483\n",
      "Epoch 22/500\n",
      "1587/1600 [============================>.] - ETA: 0s - loss: 0.1266 - accuracy: 0.9612\n",
      "Epoch 22: val_loss improved from 0.14367 to 0.14084, saving model to best_model_mnist.hdf5\n",
      "1600/1600 [==============================] - 4s 3ms/step - loss: 0.1265 - accuracy: 0.9612 - val_loss: 0.1408 - val_accuracy: 0.9588\n",
      "Epoch 23/500\n",
      "1588/1600 [============================>.] - ETA: 0s - loss: 0.1220 - accuracy: 0.9637\n",
      "Epoch 23: val_loss did not improve from 0.14084\n",
      "1600/1600 [==============================] - 4s 3ms/step - loss: 0.1221 - accuracy: 0.9637 - val_loss: 0.1433 - val_accuracy: 0.9570\n",
      "Epoch 24/500\n",
      "1596/1600 [============================>.] - ETA: 0s - loss: 0.1182 - accuracy: 0.9638\n",
      "Epoch 24: val_loss improved from 0.14084 to 0.13559, saving model to best_model_mnist.hdf5\n",
      "1600/1600 [==============================] - 4s 3ms/step - loss: 0.1183 - accuracy: 0.9637 - val_loss: 0.1356 - val_accuracy: 0.9613\n",
      "Epoch 25/500\n",
      "1599/1600 [============================>.] - ETA: 0s - loss: 0.1144 - accuracy: 0.9655\n",
      "Epoch 25: val_loss did not improve from 0.13559\n",
      "1600/1600 [==============================] - 5s 3ms/step - loss: 0.1144 - accuracy: 0.9654 - val_loss: 0.1374 - val_accuracy: 0.9597\n",
      "Epoch 26/500\n",
      "1592/1600 [============================>.] - ETA: 0s - loss: 0.1128 - accuracy: 0.9656\n",
      "Epoch 26: val_loss did not improve from 0.13559\n",
      "1600/1600 [==============================] - 5s 3ms/step - loss: 0.1127 - accuracy: 0.9656 - val_loss: 0.1394 - val_accuracy: 0.9585\n",
      "Epoch 27/500\n",
      "1584/1600 [============================>.] - ETA: 0s - loss: 0.1087 - accuracy: 0.9665\n",
      "Epoch 27: val_loss improved from 0.13559 to 0.13454, saving model to best_model_mnist.hdf5\n",
      "1600/1600 [==============================] - 5s 3ms/step - loss: 0.1087 - accuracy: 0.9666 - val_loss: 0.1345 - val_accuracy: 0.9598\n",
      "Epoch 28/500\n",
      "1594/1600 [============================>.] - ETA: 0s - loss: 0.1061 - accuracy: 0.9673\n",
      "Epoch 28: val_loss did not improve from 0.13454\n",
      "1600/1600 [==============================] - 5s 3ms/step - loss: 0.1062 - accuracy: 0.9673 - val_loss: 0.1432 - val_accuracy: 0.9572\n",
      "Epoch 29/500\n",
      "1577/1600 [============================>.] - ETA: 0s - loss: 0.1051 - accuracy: 0.9676\n",
      "Epoch 29: val_loss improved from 0.13454 to 0.12612, saving model to best_model_mnist.hdf5\n",
      "1600/1600 [==============================] - 4s 3ms/step - loss: 0.1051 - accuracy: 0.9676 - val_loss: 0.1261 - val_accuracy: 0.9634\n",
      "Epoch 30/500\n",
      "1584/1600 [============================>.] - ETA: 0s - loss: 0.1015 - accuracy: 0.9695\n",
      "Epoch 30: val_loss did not improve from 0.12612\n",
      "1600/1600 [==============================] - 4s 3ms/step - loss: 0.1011 - accuracy: 0.9696 - val_loss: 0.1349 - val_accuracy: 0.9594\n",
      "Epoch 31/500\n",
      "1585/1600 [============================>.] - ETA: 0s - loss: 0.0990 - accuracy: 0.9694\n",
      "Epoch 31: val_loss did not improve from 0.12612\n",
      "1600/1600 [==============================] - 5s 3ms/step - loss: 0.0992 - accuracy: 0.9693 - val_loss: 0.1267 - val_accuracy: 0.9627\n",
      "Epoch 32/500\n",
      "1586/1600 [============================>.] - ETA: 0s - loss: 0.0975 - accuracy: 0.9701\n",
      "Epoch 32: val_loss improved from 0.12612 to 0.12248, saving model to best_model_mnist.hdf5\n",
      "1600/1600 [==============================] - 5s 3ms/step - loss: 0.0970 - accuracy: 0.9702 - val_loss: 0.1225 - val_accuracy: 0.9648\n",
      "Epoch 33/500\n",
      "1598/1600 [============================>.] - ETA: 0s - loss: 0.0954 - accuracy: 0.9695\n",
      "Epoch 33: val_loss improved from 0.12248 to 0.11501, saving model to best_model_mnist.hdf5\n",
      "1600/1600 [==============================] - 5s 3ms/step - loss: 0.0953 - accuracy: 0.9695 - val_loss: 0.1150 - val_accuracy: 0.9663\n",
      "Epoch 34/500\n",
      "1593/1600 [============================>.] - ETA: 0s - loss: 0.0923 - accuracy: 0.9718\n",
      "Epoch 34: val_loss did not improve from 0.11501\n",
      "1600/1600 [==============================] - 6s 4ms/step - loss: 0.0926 - accuracy: 0.9718 - val_loss: 0.1162 - val_accuracy: 0.9645\n",
      "Epoch 35/500\n",
      "1591/1600 [============================>.] - ETA: 0s - loss: 0.0900 - accuracy: 0.9718\n",
      "Epoch 35: val_loss did not improve from 0.11501\n",
      "1600/1600 [==============================] - 4s 3ms/step - loss: 0.0899 - accuracy: 0.9718 - val_loss: 0.1163 - val_accuracy: 0.9657\n",
      "Epoch 36/500\n",
      "1600/1600 [==============================] - ETA: 0s - loss: 0.0895 - accuracy: 0.9714\n",
      "Epoch 36: val_loss did not improve from 0.11501\n",
      "1600/1600 [==============================] - 5s 3ms/step - loss: 0.0895 - accuracy: 0.9714 - val_loss: 0.1167 - val_accuracy: 0.9670\n",
      "Epoch 37/500\n",
      "1597/1600 [============================>.] - ETA: 0s - loss: 0.0870 - accuracy: 0.9730\n",
      "Epoch 37: val_loss did not improve from 0.11501\n",
      "1600/1600 [==============================] - 4s 2ms/step - loss: 0.0871 - accuracy: 0.9729 - val_loss: 0.1392 - val_accuracy: 0.9598\n",
      "Epoch 38/500\n",
      "1596/1600 [============================>.] - ETA: 0s - loss: 0.0852 - accuracy: 0.9739\n",
      "Epoch 38: val_loss did not improve from 0.11501\n",
      "1600/1600 [==============================] - 4s 3ms/step - loss: 0.0852 - accuracy: 0.9739 - val_loss: 0.1234 - val_accuracy: 0.9642\n",
      "Epoch 39/500\n",
      "1587/1600 [============================>.] - ETA: 0s - loss: 0.0835 - accuracy: 0.9742\n",
      "Epoch 39: val_loss did not improve from 0.11501\n",
      "1600/1600 [==============================] - 4s 3ms/step - loss: 0.0835 - accuracy: 0.9742 - val_loss: 0.1409 - val_accuracy: 0.9600\n"
     ]
    }
   ],
   "source": [
    "NB_EPOCH = 500\n",
    "from keras.callbacks import EarlyStopping\n",
    "early_stopping_monitor = EarlyStopping(monitor='val_loss',patience = 6)\n",
    "\n",
    "from keras.callbacks import ModelCheckpoint\n",
    "filepath=\"best_model_mnist.hdf5\"\n",
    "checkpoint = ModelCheckpoint(filepath,monitor='val_loss',verbose=1,save_best_only=True)\n",
    "model.compile(loss=LOSS, optimizer = SGD(), metrics =METRICS)\n",
    "Tuning_early_Stopping = model.fit(x_train1,y_train,batch_size=BATCH_SIZE, epochs = NB_EPOCH, verbose = VERBOSE,\n",
    "                                validation_split = VALIDATION_SPLIT,callbacks=[checkpoint,early_stopping_monitor])"
   ]
  },
  {
   "cell_type": "code",
   "execution_count": 25,
   "id": "55ba2953",
   "metadata": {},
   "outputs": [],
   "source": [
    "import matplotlib\n",
    "import matplotlib.pyplot as plt\n",
    "def plotHistory(Tuning):\n",
    "    fig, axs = plt.subplots(1,2,figsize=(15,5))\n",
    "    axs[0].plot(Tuning.history['loss'])\n",
    "    axs[0].plot(Tuning.history['val_loss'])\n",
    "    axs[0].set_title('loss vs epoch')\n",
    "    axs[0].set_ylabel('loss')\n",
    "    axs[0].set_xlabel('epoch')\n",
    "    axs[0].legend(['train', 'vali'], loc='upper left')\n",
    "    \n",
    "    axs[1].plot(Tuning.history['accuracy']) \n",
    "    axs[1].plot(Tuning.history['val_accuracy'])\n",
    "    axs[1].set_title('accuracy vs epoch')\n",
    "    axs[1].set_ylabel('accuracy')\n",
    "    axs[1].set_xlabel('epoch')\n",
    "    axs[1].legend(['train', 'vali'], loc='upper left')\n",
    "    plt.show(block = False)\n",
    "    plt.show()"
   ]
  },
  {
   "cell_type": "code",
   "execution_count": 26,
   "id": "3d8ed39c",
   "metadata": {},
   "outputs": [
    {
     "data": {
      "image/png": "[encoded data removed]",
      "text/plain": [
       "<Figure size 1080x360 with 2 Axes>"
      ]
     },
     "metadata": {
      "needs_background": "light"
     },
     "output_type": "display_data"
    }
   ],
   "source": [
    "plotHistory(Tuning_early_Stopping )"
   ]
  },
  {
   "cell_type": "code",
   "execution_count": 27,
   "id": "7b1a42f0",
   "metadata": {},
   "outputs": [
    {
     "name": "stdout",
     "output_type": "stream",
     "text": [
      "313/313 [==============================] - 1s 2ms/step\n",
      "Dimensions of pred_p  (10000, 10)\n",
      "predicted probabilities of first 5 \n",
      " [[1.7751611e-07 1.1449536e-07 2.3872875e-05 5.1432955e-03 6.7770767e-13\n",
      "  5.9879902e-08 3.7296714e-14 9.9482661e-01 2.6711299e-07 5.7155412e-06]\n",
      " [3.0669712e-06 4.9091788e-04 9.9948066e-01 2.3615257e-05 5.1095489e-10\n",
      "  3.2151555e-09 8.6322338e-08 4.0138085e-07 1.1825726e-06 6.7461321e-11]\n",
      " [1.2911515e-07 9.9395591e-01 3.2296192e-04 2.0426016e-03 2.0849671e-05\n",
      "  2.4519939e-05 1.5127957e-06 2.4295391e-03 7.3421508e-04 4.6787263e-04]\n",
      " [9.9936062e-01 2.1272529e-06 3.6962313e-04 5.8755677e-06 3.3907767e-08\n",
      "  5.8234120e-05 2.9526705e-05 9.1827724e-06 1.5703012e-06 1.6334173e-04]\n",
      " [7.0411079e-07 2.9576766e-08 1.7127786e-05 1.6181812e-07 9.9202514e-01\n",
      "  1.0042961e-06 3.6110323e-06 1.6717298e-04 1.6661583e-05 7.7684294e-03]]\n"
     ]
    }
   ],
   "source": [
    "from keras.models import load_model\n",
    "filepath='best_model_mnist.hdf5'\n",
    "finalModel = load_model(filepath)\n",
    "pred_p = model.predict(x_test1) # predict probabilities\n",
    "print('Dimensions of pred_p ',pred_p.shape)\n",
    "print('predicted probabilities of first 5 \\n',pred_p[0:5])"
   ]
  },
  {
   "cell_type": "code",
   "execution_count": 28,
   "id": "5fc511c1",
   "metadata": {},
   "outputs": [
    {
     "name": "stdout",
     "output_type": "stream",
     "text": [
      "313/313 [==============================] - 1s 2ms/step\n",
      "[7 2 1 ... 4 5 6]\n",
      "[7 2 1 ... 4 5 6]\n",
      "(10000,)\n",
      "(10000,)\n",
      "testing accuracy 0.9599\n"
     ]
    }
   ],
   "source": [
    "from sklearn.metrics import accuracy_score\n",
    "#convert categorical to integer class labels\n",
    "pred_p = model.predict(x_test1) # predict probabilities\n",
    "pred_classes = np.argmax(pred_p , axis=1)\n",
    "y_classes = np.argmax(y_test, axis=1) # returns the index (location) of maximum entry.\n",
    "print(pred_classes)\n",
    "print(y_classes)\n",
    "print(pred_classes.shape)\n",
    "print(y_classes.shape)\n",
    "print('testing accuracy',accuracy_score(y_classes,pred_classes))"
   ]
  }
 ],
 "metadata": {
  "kernelspec": {
   "display_name": "Python 3 (ipykernel)",
   "language": "python",
   "name": "python3"
  },
  "language_info": {
   "codemirror_mode": {
    "name": "ipython",
    "version": 3
   },
   "file_extension": ".py",
   "mimetype": "text/x-python",
   "name": "python",
   "nbconvert_exporter": "python",
   "pygments_lexer": "ipython3",
   "version": "3.9.12"
  }
 },
 "nbformat": 4,
 "nbformat_minor": 5
}
